{
 "cells": [
  {
   "cell_type": "markdown",
   "metadata": {},
   "source": [
    "## Import Packages"
   ]
  },
  {
   "cell_type": "code",
   "execution_count": 1,
   "metadata": {},
   "outputs": [],
   "source": [
    "import pandas as pd\n",
    "from statsmodels.formula.api import ols\n",
    "from sklearn.preprocessing import LabelBinarizer\n",
    "import numpy as np\n",
    "import datetime\n",
    "import matplotlib.pyplot as plt\n",
    "import seaborn as sns\n",
    "import scipy.stats as stats\n",
    "import statsmodels.api as sm\n",
    "%matplotlib inline\n",
    "from statsmodels.stats.outliers_influence import variance_inflation_factor\n",
    "from sklearn.model_selection import train_test_split\n",
    "import sys\n",
    "import seaborn as sns\n",
    "from scipy import sparse\n",
    "from sklearn.preprocessing import StandardScaler \n",
    "from sklearn.linear_model import LogisticRegression\n",
    "\n"
   ]
  },
  {
   "cell_type": "markdown",
   "metadata": {},
   "source": [
    "# Problem Understanding"
   ]
  },
  {
   "cell_type": "markdown",
   "metadata": {},
   "source": [
    "The Vehicle Safety Board of Chicago has determine that it is necessary to know and understand the primary contributory cause of a car accident. Therefore, it will be possible to recognise patterns and consequently \"it could create guidelines to implement preventive actions.\"\n",
    "Based on the data, we are going to predict if the cause of a car accident if influence by the weather, location, time or by the number of passengers.\n",
    "From the created models, we want to estimate the global/generic/general/average cost of having a injury person or the cost a average crash.\n"
   ]
  },
  {
   "cell_type": "markdown",
   "metadata": {},
   "source": [
    "Predict the frequency of traffic accidents between the road geometric variables, traffic characteristics, and environmental factors.\n"
   ]
  },
  {
   "cell_type": "markdown",
   "metadata": {},
   "source": [
    "# Data Understanding\n",
    "\n"
   ]
  },
  {
   "cell_type": "code",
   "execution_count": 2,
   "metadata": {},
   "outputs": [],
   "source": [
    "# Crashes Dataset\n",
    "crash = pd.read_csv('Traffic_Crashes_-_Crashes.csv')\n",
    "# print(crashes.shape)\n",
    "# crash.info()"
   ]
  },
  {
   "cell_type": "code",
   "execution_count": 3,
   "metadata": {},
   "outputs": [],
   "source": [
    "# Selecting specific features on crashes dataset\n",
    "crashes = crash[['CRASH_RECORD_ID', 'POSTED_SPEED_LIMIT', 'WEATHER_CONDITION', \n",
    "                 'LIGHTING_CONDITION', 'FIRST_CRASH_TYPE', 'ROADWAY_SURFACE_COND',\n",
    "                 'ROAD_DEFECT', 'PRIM_CONTRIBUTORY_CAUSE', 'SEC_CONTRIBUTORY_CAUSE',\n",
    "                 'BEAT_OF_OCCURRENCE','CRASH_HOUR', 'CRASH_DAY_OF_WEEK', 'CRASH_MONTH', 'DAMAGE']]"
   ]
  },
  {
   "cell_type": "code",
   "execution_count": 4,
   "metadata": {},
   "outputs": [
    {
     "name": "stderr",
     "output_type": "stream",
     "text": [
      "/Users/Vittorio/opt/anaconda3/lib/python3.7/site-packages/IPython/core/interactiveshell.py:3058: DtypeWarning: Columns (12,13,20,21,22,23,24,25,26,27,29) have mixed types. Specify dtype option on import or set low_memory=False.\n",
      "  interactivity=interactivity, compiler=compiler, result=result)\n"
     ]
    }
   ],
   "source": [
    "# People Dataset\n",
    "people = pd.read_csv('Traffic_Crashes_-_People.csv')\n",
    "#print(people.shape)\n",
    "# people.head()"
   ]
  },
  {
   "cell_type": "code",
   "execution_count": 5,
   "metadata": {},
   "outputs": [],
   "source": [
    "# Selecting features on people's dataset\n",
    "peoples = people[['CRASH_RECORD_ID','PERSON_TYPE', 'SEX', 'AGE']]"
   ]
  },
  {
   "cell_type": "code",
   "execution_count": 6,
   "metadata": {},
   "outputs": [
    {
     "name": "stderr",
     "output_type": "stream",
     "text": [
      "/Users/Vittorio/opt/anaconda3/lib/python3.7/site-packages/IPython/core/interactiveshell.py:3058: DtypeWarning: Columns (19,21,40,41,42,44,48,49,50,55,58,59,61) have mixed types. Specify dtype option on import or set low_memory=False.\n",
      "  interactivity=interactivity, compiler=compiler, result=result)\n"
     ]
    }
   ],
   "source": [
    "# Vehicles Dataset\n",
    "vehicles = pd.read_csv('Traffic_Crashes_-_Vehicles.csv')\n",
    "#print(crashes.shape)\n",
    "# crashes.head()"
   ]
  },
  {
   "cell_type": "code",
   "execution_count": 7,
   "metadata": {},
   "outputs": [],
   "source": [
    "# Selecting features on vehicle's dataset\n",
    "vehicle = vehicles[['CRASH_RECORD_ID', 'VEHICLE_TYPE', 'MANEUVER']]"
   ]
  },
  {
   "cell_type": "markdown",
   "metadata": {},
   "source": [
    "## Combining Datasets"
   ]
  },
  {
   "cell_type": "code",
   "execution_count": 8,
   "metadata": {},
   "outputs": [],
   "source": [
    "#  Merging crashes with people datastes\n",
    "df_cp = pd.merge(crashes, peoples, on = 'CRASH_RECORD_ID', how = 'left')"
   ]
  },
  {
   "cell_type": "code",
   "execution_count": 9,
   "metadata": {},
   "outputs": [],
   "source": [
    "# Merging df_cp with vehicles dataset\n",
    "df_x = pd.merge(df_cp, vehicle, on = 'CRASH_RECORD_ID', how = 'left')"
   ]
  },
  {
   "cell_type": "code",
   "execution_count": 10,
   "metadata": {},
   "outputs": [],
   "source": [
    "# Selecting only class Driver\n",
    "df_t = df_x[(df_x.PERSON_TYPE == 'DRIVER') & (df_x.AGE >=16) & (df_x.AGE <= 100)]\n"
   ]
  },
  {
   "cell_type": "code",
   "execution_count": 11,
   "metadata": {
    "scrolled": true
   },
   "outputs": [],
   "source": [
    "df = df_t.drop_duplicates(subset = 'CRASH_RECORD_ID', keep='first')\n"
   ]
  },
  {
   "cell_type": "code",
   "execution_count": 12,
   "metadata": {
    "scrolled": false
   },
   "outputs": [
    {
     "name": "stderr",
     "output_type": "stream",
     "text": [
      "/Users/Vittorio/opt/anaconda3/lib/python3.7/site-packages/ipykernel_launcher.py:1: SettingWithCopyWarning: \n",
      "A value is trying to be set on a copy of a slice from a DataFrame\n",
      "\n",
      "See the caveats in the documentation: http://pandas.pydata.org/pandas-docs/stable/user_guide/indexing.html#returning-a-view-versus-a-copy\n",
      "  \"\"\"Entry point for launching an IPython kernel.\n"
     ]
    }
   ],
   "source": [
    "df.dropna(subset=['VEHICLE_TYPE'], inplace=True)"
   ]
  },
  {
   "cell_type": "code",
   "execution_count": 13,
   "metadata": {},
   "outputs": [
    {
     "name": "stderr",
     "output_type": "stream",
     "text": [
      "/Users/Vittorio/opt/anaconda3/lib/python3.7/site-packages/ipykernel_launcher.py:1: SettingWithCopyWarning: \n",
      "A value is trying to be set on a copy of a slice from a DataFrame\n",
      "\n",
      "See the caveats in the documentation: http://pandas.pydata.org/pandas-docs/stable/user_guide/indexing.html#returning-a-view-versus-a-copy\n",
      "  \"\"\"Entry point for launching an IPython kernel.\n"
     ]
    }
   ],
   "source": [
    "df.dropna(subset=['BEAT_OF_OCCURRENCE'], inplace=True)"
   ]
  },
  {
   "cell_type": "code",
   "execution_count": 14,
   "metadata": {},
   "outputs": [
    {
     "name": "stdout",
     "output_type": "stream",
     "text": [
      "<class 'pandas.core.frame.DataFrame'>\n",
      "Int64Index: 317357 entries, 0 to 1799745\n",
      "Data columns (total 19 columns):\n",
      "CRASH_RECORD_ID            317357 non-null object\n",
      "POSTED_SPEED_LIMIT         317357 non-null int64\n",
      "WEATHER_CONDITION          317357 non-null object\n",
      "LIGHTING_CONDITION         317357 non-null object\n",
      "FIRST_CRASH_TYPE           317357 non-null object\n",
      "ROADWAY_SURFACE_COND       317357 non-null object\n",
      "ROAD_DEFECT                317357 non-null object\n",
      "PRIM_CONTRIBUTORY_CAUSE    317357 non-null object\n",
      "SEC_CONTRIBUTORY_CAUSE     317357 non-null object\n",
      "BEAT_OF_OCCURRENCE         317357 non-null float64\n",
      "CRASH_HOUR                 317357 non-null int64\n",
      "CRASH_DAY_OF_WEEK          317357 non-null int64\n",
      "CRASH_MONTH                317357 non-null int64\n",
      "DAMAGE                     317357 non-null object\n",
      "PERSON_TYPE                317357 non-null object\n",
      "SEX                        317357 non-null object\n",
      "AGE                        317357 non-null float64\n",
      "VEHICLE_TYPE               317357 non-null object\n",
      "MANEUVER                   317357 non-null object\n",
      "dtypes: float64(2), int64(4), object(13)\n",
      "memory usage: 48.4+ MB\n"
     ]
    },
    {
     "data": {
      "text/plain": [
       "CRASH_RECORD_ID            0\n",
       "POSTED_SPEED_LIMIT         0\n",
       "WEATHER_CONDITION          0\n",
       "LIGHTING_CONDITION         0\n",
       "FIRST_CRASH_TYPE           0\n",
       "ROADWAY_SURFACE_COND       0\n",
       "ROAD_DEFECT                0\n",
       "PRIM_CONTRIBUTORY_CAUSE    0\n",
       "SEC_CONTRIBUTORY_CAUSE     0\n",
       "BEAT_OF_OCCURRENCE         0\n",
       "CRASH_HOUR                 0\n",
       "CRASH_DAY_OF_WEEK          0\n",
       "CRASH_MONTH                0\n",
       "DAMAGE                     0\n",
       "PERSON_TYPE                0\n",
       "SEX                        0\n",
       "AGE                        0\n",
       "VEHICLE_TYPE               0\n",
       "MANEUVER                   0\n",
       "dtype: int64"
      ]
     },
     "execution_count": 14,
     "metadata": {},
     "output_type": "execute_result"
    }
   ],
   "source": [
    "df.info()\n",
    "df.isnull().sum()"
   ]
  },
  {
   "cell_type": "code",
   "execution_count": 15,
   "metadata": {},
   "outputs": [],
   "source": [
    "df.reset_index(inplace=True)"
   ]
  },
  {
   "cell_type": "code",
   "execution_count": null,
   "metadata": {},
   "outputs": [],
   "source": [
    "df['ROADWAY_SURFACE_COND'].value_counts()"
   ]
  },
  {
   "cell_type": "code",
   "execution_count": null,
   "metadata": {},
   "outputs": [],
   "source": [
    "df.info()"
   ]
  },
  {
   "cell_type": "code",
   "execution_count": 30,
   "metadata": {},
   "outputs": [
    {
     "data": {
      "text/plain": [
       "UNABLE TO DETERMINE                                                                 94756\n",
       "FOLLOWING TOO CLOSELY                                                               42118\n",
       "FAILING TO YIELD RIGHT-OF-WAY                                                       41223\n",
       "IMPROPER OVERTAKING/PASSING                                                         17555\n",
       "FAILING TO REDUCE SPEED TO AVOID CRASH                                              14755\n",
       "NOT APPLICABLE                                                                      14489\n",
       "IMPROPER LANE USAGE                                                                 14096\n",
       "IMPROPER BACKING                                                                    13959\n",
       "IMPROPER TURNING/NO SIGNAL                                                          12567\n",
       "DRIVING SKILLS/KNOWLEDGE/EXPERIENCE                                                  9848\n",
       "DISREGARDING TRAFFIC SIGNALS                                                         6123\n",
       "WEATHER                                                                              5973\n",
       "DISREGARDING STOP SIGN                                                               3866\n",
       "OPERATING VEHICLE IN ERRATIC, RECKLESS, CARELESS, NEGLIGENT OR AGGRESSIVE MANNER     3159\n",
       "DISTRACTION - FROM INSIDE VEHICLE                                                    2723\n",
       "EQUIPMENT - VEHICLE CONDITION                                                        2167\n",
       "VISION OBSCURED (SIGNS, TREE LIMBS, BUILDINGS, ETC.)                                 2139\n",
       "PHYSICAL CONDITION OF DRIVER                                                         2037\n",
       "UNDER THE INFLUENCE OF ALCOHOL/DRUGS (USE WHEN ARREST IS EFFECTED)                   1987\n",
       "DISTRACTION - FROM OUTSIDE VEHICLE                                                   1608\n",
       "EXCEEDING AUTHORIZED SPEED LIMIT                                                     1450\n",
       "EXCEEDING SAFE SPEED FOR CONDITIONS                                                  1446\n",
       "DRIVING ON WRONG SIDE/WRONG WAY                                                      1362\n",
       "ROAD ENGINEERING/SURFACE/MARKING DEFECTS                                             1174\n",
       "ROAD CONSTRUCTION/MAINTENANCE                                                         976\n",
       "DISREGARDING OTHER TRAFFIC SIGNS                                                      733\n",
       "EVASIVE ACTION DUE TO ANIMAL, OBJECT, NONMOTORIST                                     633\n",
       "CELL PHONE USE OTHER THAN TEXTING                                                     513\n",
       "DISREGARDING ROAD MARKINGS                                                            478\n",
       "HAD BEEN DRINKING (USE WHEN ARREST IS NOT MADE)                                       274\n",
       "ANIMAL                                                                                273\n",
       "TURNING RIGHT ON RED                                                                  240\n",
       "DISTRACTION - OTHER ELECTRONIC DEVICE (NAVIGATION DEVICE, DVD PLAYER, ETC.)           172\n",
       "TEXTING                                                                               165\n",
       "DISREGARDING YIELD SIGN                                                               128\n",
       "RELATED TO BUS STOP                                                                    82\n",
       "PASSING STOPPED SCHOOL BUS                                                             47\n",
       "BICYCLE ADVANCING LEGALLY ON RED LIGHT                                                 31\n",
       "OBSTRUCTED CROSSWALKS                                                                  19\n",
       "MOTORCYCLE ADVANCING LEGALLY ON RED LIGHT                                              13\n",
       "Name: PRIM_CONTRIBUTORY_CAUSE, dtype: int64"
      ]
     },
     "execution_count": 30,
     "metadata": {},
     "output_type": "execute_result"
    }
   ],
   "source": [
    "df['PRIM_CONTRIBUTORY_CAUSE'].value_counts()"
   ]
  },
  {
   "cell_type": "code",
   "execution_count": null,
   "metadata": {},
   "outputs": [],
   "source": [
    "sns.countplot('CRASH_HOUR', data=df)"
   ]
  },
  {
   "cell_type": "code",
   "execution_count": null,
   "metadata": {},
   "outputs": [],
   "source": [
    "sns.countplot('CRASH_DAY_OF_WEEK', data=df)"
   ]
  },
  {
   "cell_type": "code",
   "execution_count": null,
   "metadata": {},
   "outputs": [],
   "source": [
    "sns.countplot('BEAT_OF_OCCURRENCE', data=df)"
   ]
  },
  {
   "cell_type": "code",
   "execution_count": null,
   "metadata": {},
   "outputs": [],
   "source": []
  },
  {
   "cell_type": "code",
   "execution_count": null,
   "metadata": {},
   "outputs": [],
   "source": []
  },
  {
   "cell_type": "code",
   "execution_count": null,
   "metadata": {},
   "outputs": [],
   "source": []
  },
  {
   "cell_type": "code",
   "execution_count": null,
   "metadata": {},
   "outputs": [],
   "source": []
  },
  {
   "cell_type": "code",
   "execution_count": null,
   "metadata": {},
   "outputs": [],
   "source": []
  },
  {
   "cell_type": "code",
   "execution_count": null,
   "metadata": {},
   "outputs": [],
   "source": [
    "# # df['BEAT_OF_OCCURRENCE'] = df.astype({'BEAT_OF_OCCURRENCE': 'int64'}).dtypes\n",
    "# df['AGE'] = (df['AGE']).astype(int)\n",
    "# df.dropna(subset='BEAT_OF_OCCURRENCE')\n",
    "# df.isnull().sum()"
   ]
  },
  {
   "cell_type": "markdown",
   "metadata": {},
   "source": [
    "# Data Preparation"
   ]
  },
  {
   "cell_type": "code",
   "execution_count": 19,
   "metadata": {},
   "outputs": [
    {
     "data": {
      "text/html": [
       "<div>\n",
       "<style scoped>\n",
       "    .dataframe tbody tr th:only-of-type {\n",
       "        vertical-align: middle;\n",
       "    }\n",
       "\n",
       "    .dataframe tbody tr th {\n",
       "        vertical-align: top;\n",
       "    }\n",
       "\n",
       "    .dataframe thead th {\n",
       "        text-align: right;\n",
       "    }\n",
       "</style>\n",
       "<table border=\"1\" class=\"dataframe\">\n",
       "  <thead>\n",
       "    <tr style=\"text-align: right;\">\n",
       "      <th></th>\n",
       "      <th>LIGHTING_CONDITION_DARKNESS, LIGHTED ROAD</th>\n",
       "      <th>LIGHTING_CONDITION_DAWN</th>\n",
       "      <th>LIGHTING_CONDITION_DAYLIGHT</th>\n",
       "      <th>LIGHTING_CONDITION_DUSK</th>\n",
       "      <th>LIGHTING_CONDITION_UNKNOWN</th>\n",
       "      <th>FIRST_CRASH_TYPE_ANIMAL</th>\n",
       "      <th>FIRST_CRASH_TYPE_FIXED OBJECT</th>\n",
       "      <th>FIRST_CRASH_TYPE_HEAD ON</th>\n",
       "      <th>FIRST_CRASH_TYPE_OTHER NONCOLLISION</th>\n",
       "      <th>FIRST_CRASH_TYPE_OTHER OBJECT</th>\n",
       "      <th>...</th>\n",
       "      <th>PRIM_CONTRIBUTORY_CAUSE_PHYSICAL CONDITION OF DRIVER</th>\n",
       "      <th>PRIM_CONTRIBUTORY_CAUSE_RELATED TO BUS STOP</th>\n",
       "      <th>PRIM_CONTRIBUTORY_CAUSE_ROAD CONSTRUCTION/MAINTENANCE</th>\n",
       "      <th>PRIM_CONTRIBUTORY_CAUSE_ROAD ENGINEERING/SURFACE/MARKING DEFECTS</th>\n",
       "      <th>PRIM_CONTRIBUTORY_CAUSE_TEXTING</th>\n",
       "      <th>PRIM_CONTRIBUTORY_CAUSE_TURNING RIGHT ON RED</th>\n",
       "      <th>PRIM_CONTRIBUTORY_CAUSE_UNABLE TO DETERMINE</th>\n",
       "      <th>PRIM_CONTRIBUTORY_CAUSE_UNDER THE INFLUENCE OF ALCOHOL/DRUGS (USE WHEN ARREST IS EFFECTED)</th>\n",
       "      <th>PRIM_CONTRIBUTORY_CAUSE_VISION OBSCURED (SIGNS, TREE LIMBS, BUILDINGS, ETC.)</th>\n",
       "      <th>PRIM_CONTRIBUTORY_CAUSE_WEATHER</th>\n",
       "    </tr>\n",
       "  </thead>\n",
       "  <tbody>\n",
       "    <tr>\n",
       "      <td>0</td>\n",
       "      <td>0.0</td>\n",
       "      <td>0.0</td>\n",
       "      <td>1.0</td>\n",
       "      <td>0.0</td>\n",
       "      <td>0.0</td>\n",
       "      <td>0.0</td>\n",
       "      <td>0.0</td>\n",
       "      <td>0.0</td>\n",
       "      <td>0.0</td>\n",
       "      <td>0.0</td>\n",
       "      <td>...</td>\n",
       "      <td>0.0</td>\n",
       "      <td>0.0</td>\n",
       "      <td>0.0</td>\n",
       "      <td>0.0</td>\n",
       "      <td>0.0</td>\n",
       "      <td>0.0</td>\n",
       "      <td>0.0</td>\n",
       "      <td>0.0</td>\n",
       "      <td>0.0</td>\n",
       "      <td>0.0</td>\n",
       "    </tr>\n",
       "    <tr>\n",
       "      <td>1</td>\n",
       "      <td>0.0</td>\n",
       "      <td>0.0</td>\n",
       "      <td>1.0</td>\n",
       "      <td>0.0</td>\n",
       "      <td>0.0</td>\n",
       "      <td>0.0</td>\n",
       "      <td>0.0</td>\n",
       "      <td>0.0</td>\n",
       "      <td>0.0</td>\n",
       "      <td>0.0</td>\n",
       "      <td>...</td>\n",
       "      <td>0.0</td>\n",
       "      <td>0.0</td>\n",
       "      <td>0.0</td>\n",
       "      <td>0.0</td>\n",
       "      <td>0.0</td>\n",
       "      <td>0.0</td>\n",
       "      <td>1.0</td>\n",
       "      <td>0.0</td>\n",
       "      <td>0.0</td>\n",
       "      <td>0.0</td>\n",
       "    </tr>\n",
       "    <tr>\n",
       "      <td>2</td>\n",
       "      <td>0.0</td>\n",
       "      <td>0.0</td>\n",
       "      <td>1.0</td>\n",
       "      <td>0.0</td>\n",
       "      <td>0.0</td>\n",
       "      <td>0.0</td>\n",
       "      <td>0.0</td>\n",
       "      <td>0.0</td>\n",
       "      <td>0.0</td>\n",
       "      <td>0.0</td>\n",
       "      <td>...</td>\n",
       "      <td>0.0</td>\n",
       "      <td>0.0</td>\n",
       "      <td>0.0</td>\n",
       "      <td>0.0</td>\n",
       "      <td>0.0</td>\n",
       "      <td>0.0</td>\n",
       "      <td>1.0</td>\n",
       "      <td>0.0</td>\n",
       "      <td>0.0</td>\n",
       "      <td>0.0</td>\n",
       "    </tr>\n",
       "    <tr>\n",
       "      <td>3</td>\n",
       "      <td>0.0</td>\n",
       "      <td>0.0</td>\n",
       "      <td>1.0</td>\n",
       "      <td>0.0</td>\n",
       "      <td>0.0</td>\n",
       "      <td>0.0</td>\n",
       "      <td>0.0</td>\n",
       "      <td>0.0</td>\n",
       "      <td>0.0</td>\n",
       "      <td>0.0</td>\n",
       "      <td>...</td>\n",
       "      <td>0.0</td>\n",
       "      <td>0.0</td>\n",
       "      <td>0.0</td>\n",
       "      <td>0.0</td>\n",
       "      <td>0.0</td>\n",
       "      <td>0.0</td>\n",
       "      <td>1.0</td>\n",
       "      <td>0.0</td>\n",
       "      <td>0.0</td>\n",
       "      <td>0.0</td>\n",
       "    </tr>\n",
       "    <tr>\n",
       "      <td>4</td>\n",
       "      <td>0.0</td>\n",
       "      <td>0.0</td>\n",
       "      <td>1.0</td>\n",
       "      <td>0.0</td>\n",
       "      <td>0.0</td>\n",
       "      <td>0.0</td>\n",
       "      <td>0.0</td>\n",
       "      <td>0.0</td>\n",
       "      <td>0.0</td>\n",
       "      <td>0.0</td>\n",
       "      <td>...</td>\n",
       "      <td>0.0</td>\n",
       "      <td>0.0</td>\n",
       "      <td>0.0</td>\n",
       "      <td>0.0</td>\n",
       "      <td>0.0</td>\n",
       "      <td>0.0</td>\n",
       "      <td>0.0</td>\n",
       "      <td>0.0</td>\n",
       "      <td>0.0</td>\n",
       "      <td>0.0</td>\n",
       "    </tr>\n",
       "    <tr>\n",
       "      <td>...</td>\n",
       "      <td>...</td>\n",
       "      <td>...</td>\n",
       "      <td>...</td>\n",
       "      <td>...</td>\n",
       "      <td>...</td>\n",
       "      <td>...</td>\n",
       "      <td>...</td>\n",
       "      <td>...</td>\n",
       "      <td>...</td>\n",
       "      <td>...</td>\n",
       "      <td>...</td>\n",
       "      <td>...</td>\n",
       "      <td>...</td>\n",
       "      <td>...</td>\n",
       "      <td>...</td>\n",
       "      <td>...</td>\n",
       "      <td>...</td>\n",
       "      <td>...</td>\n",
       "      <td>...</td>\n",
       "      <td>...</td>\n",
       "      <td>...</td>\n",
       "    </tr>\n",
       "    <tr>\n",
       "      <td>317352</td>\n",
       "      <td>0.0</td>\n",
       "      <td>0.0</td>\n",
       "      <td>1.0</td>\n",
       "      <td>0.0</td>\n",
       "      <td>0.0</td>\n",
       "      <td>0.0</td>\n",
       "      <td>0.0</td>\n",
       "      <td>0.0</td>\n",
       "      <td>0.0</td>\n",
       "      <td>0.0</td>\n",
       "      <td>...</td>\n",
       "      <td>0.0</td>\n",
       "      <td>0.0</td>\n",
       "      <td>0.0</td>\n",
       "      <td>0.0</td>\n",
       "      <td>0.0</td>\n",
       "      <td>0.0</td>\n",
       "      <td>1.0</td>\n",
       "      <td>0.0</td>\n",
       "      <td>0.0</td>\n",
       "      <td>0.0</td>\n",
       "    </tr>\n",
       "    <tr>\n",
       "      <td>317353</td>\n",
       "      <td>0.0</td>\n",
       "      <td>0.0</td>\n",
       "      <td>1.0</td>\n",
       "      <td>0.0</td>\n",
       "      <td>0.0</td>\n",
       "      <td>0.0</td>\n",
       "      <td>0.0</td>\n",
       "      <td>0.0</td>\n",
       "      <td>0.0</td>\n",
       "      <td>0.0</td>\n",
       "      <td>...</td>\n",
       "      <td>0.0</td>\n",
       "      <td>0.0</td>\n",
       "      <td>0.0</td>\n",
       "      <td>0.0</td>\n",
       "      <td>0.0</td>\n",
       "      <td>0.0</td>\n",
       "      <td>1.0</td>\n",
       "      <td>0.0</td>\n",
       "      <td>0.0</td>\n",
       "      <td>0.0</td>\n",
       "    </tr>\n",
       "    <tr>\n",
       "      <td>317354</td>\n",
       "      <td>0.0</td>\n",
       "      <td>0.0</td>\n",
       "      <td>1.0</td>\n",
       "      <td>0.0</td>\n",
       "      <td>0.0</td>\n",
       "      <td>0.0</td>\n",
       "      <td>0.0</td>\n",
       "      <td>0.0</td>\n",
       "      <td>0.0</td>\n",
       "      <td>0.0</td>\n",
       "      <td>...</td>\n",
       "      <td>0.0</td>\n",
       "      <td>0.0</td>\n",
       "      <td>0.0</td>\n",
       "      <td>0.0</td>\n",
       "      <td>0.0</td>\n",
       "      <td>0.0</td>\n",
       "      <td>0.0</td>\n",
       "      <td>0.0</td>\n",
       "      <td>0.0</td>\n",
       "      <td>0.0</td>\n",
       "    </tr>\n",
       "    <tr>\n",
       "      <td>317355</td>\n",
       "      <td>0.0</td>\n",
       "      <td>0.0</td>\n",
       "      <td>1.0</td>\n",
       "      <td>0.0</td>\n",
       "      <td>0.0</td>\n",
       "      <td>0.0</td>\n",
       "      <td>0.0</td>\n",
       "      <td>0.0</td>\n",
       "      <td>0.0</td>\n",
       "      <td>0.0</td>\n",
       "      <td>...</td>\n",
       "      <td>0.0</td>\n",
       "      <td>0.0</td>\n",
       "      <td>0.0</td>\n",
       "      <td>0.0</td>\n",
       "      <td>0.0</td>\n",
       "      <td>0.0</td>\n",
       "      <td>0.0</td>\n",
       "      <td>0.0</td>\n",
       "      <td>0.0</td>\n",
       "      <td>0.0</td>\n",
       "    </tr>\n",
       "    <tr>\n",
       "      <td>317356</td>\n",
       "      <td>0.0</td>\n",
       "      <td>0.0</td>\n",
       "      <td>1.0</td>\n",
       "      <td>0.0</td>\n",
       "      <td>0.0</td>\n",
       "      <td>0.0</td>\n",
       "      <td>0.0</td>\n",
       "      <td>0.0</td>\n",
       "      <td>0.0</td>\n",
       "      <td>0.0</td>\n",
       "      <td>...</td>\n",
       "      <td>0.0</td>\n",
       "      <td>0.0</td>\n",
       "      <td>0.0</td>\n",
       "      <td>0.0</td>\n",
       "      <td>0.0</td>\n",
       "      <td>0.0</td>\n",
       "      <td>0.0</td>\n",
       "      <td>0.0</td>\n",
       "      <td>0.0</td>\n",
       "      <td>0.0</td>\n",
       "    </tr>\n",
       "  </tbody>\n",
       "</table>\n",
       "<p>317357 rows × 61 columns</p>\n",
       "</div>"
      ],
      "text/plain": [
       "        LIGHTING_CONDITION_DARKNESS, LIGHTED ROAD  LIGHTING_CONDITION_DAWN  \\\n",
       "0                                             0.0                      0.0   \n",
       "1                                             0.0                      0.0   \n",
       "2                                             0.0                      0.0   \n",
       "3                                             0.0                      0.0   \n",
       "4                                             0.0                      0.0   \n",
       "...                                           ...                      ...   \n",
       "317352                                        0.0                      0.0   \n",
       "317353                                        0.0                      0.0   \n",
       "317354                                        0.0                      0.0   \n",
       "317355                                        0.0                      0.0   \n",
       "317356                                        0.0                      0.0   \n",
       "\n",
       "        LIGHTING_CONDITION_DAYLIGHT  LIGHTING_CONDITION_DUSK  \\\n",
       "0                               1.0                      0.0   \n",
       "1                               1.0                      0.0   \n",
       "2                               1.0                      0.0   \n",
       "3                               1.0                      0.0   \n",
       "4                               1.0                      0.0   \n",
       "...                             ...                      ...   \n",
       "317352                          1.0                      0.0   \n",
       "317353                          1.0                      0.0   \n",
       "317354                          1.0                      0.0   \n",
       "317355                          1.0                      0.0   \n",
       "317356                          1.0                      0.0   \n",
       "\n",
       "        LIGHTING_CONDITION_UNKNOWN  FIRST_CRASH_TYPE_ANIMAL  \\\n",
       "0                              0.0                      0.0   \n",
       "1                              0.0                      0.0   \n",
       "2                              0.0                      0.0   \n",
       "3                              0.0                      0.0   \n",
       "4                              0.0                      0.0   \n",
       "...                            ...                      ...   \n",
       "317352                         0.0                      0.0   \n",
       "317353                         0.0                      0.0   \n",
       "317354                         0.0                      0.0   \n",
       "317355                         0.0                      0.0   \n",
       "317356                         0.0                      0.0   \n",
       "\n",
       "        FIRST_CRASH_TYPE_FIXED OBJECT  FIRST_CRASH_TYPE_HEAD ON  \\\n",
       "0                                 0.0                       0.0   \n",
       "1                                 0.0                       0.0   \n",
       "2                                 0.0                       0.0   \n",
       "3                                 0.0                       0.0   \n",
       "4                                 0.0                       0.0   \n",
       "...                               ...                       ...   \n",
       "317352                            0.0                       0.0   \n",
       "317353                            0.0                       0.0   \n",
       "317354                            0.0                       0.0   \n",
       "317355                            0.0                       0.0   \n",
       "317356                            0.0                       0.0   \n",
       "\n",
       "        FIRST_CRASH_TYPE_OTHER NONCOLLISION  FIRST_CRASH_TYPE_OTHER OBJECT  \\\n",
       "0                                       0.0                            0.0   \n",
       "1                                       0.0                            0.0   \n",
       "2                                       0.0                            0.0   \n",
       "3                                       0.0                            0.0   \n",
       "4                                       0.0                            0.0   \n",
       "...                                     ...                            ...   \n",
       "317352                                  0.0                            0.0   \n",
       "317353                                  0.0                            0.0   \n",
       "317354                                  0.0                            0.0   \n",
       "317355                                  0.0                            0.0   \n",
       "317356                                  0.0                            0.0   \n",
       "\n",
       "        ...  PRIM_CONTRIBUTORY_CAUSE_PHYSICAL CONDITION OF DRIVER  \\\n",
       "0       ...                                                0.0      \n",
       "1       ...                                                0.0      \n",
       "2       ...                                                0.0      \n",
       "3       ...                                                0.0      \n",
       "4       ...                                                0.0      \n",
       "...     ...                                                ...      \n",
       "317352  ...                                                0.0      \n",
       "317353  ...                                                0.0      \n",
       "317354  ...                                                0.0      \n",
       "317355  ...                                                0.0      \n",
       "317356  ...                                                0.0      \n",
       "\n",
       "        PRIM_CONTRIBUTORY_CAUSE_RELATED TO BUS STOP  \\\n",
       "0                                               0.0   \n",
       "1                                               0.0   \n",
       "2                                               0.0   \n",
       "3                                               0.0   \n",
       "4                                               0.0   \n",
       "...                                             ...   \n",
       "317352                                          0.0   \n",
       "317353                                          0.0   \n",
       "317354                                          0.0   \n",
       "317355                                          0.0   \n",
       "317356                                          0.0   \n",
       "\n",
       "        PRIM_CONTRIBUTORY_CAUSE_ROAD CONSTRUCTION/MAINTENANCE  \\\n",
       "0                                                     0.0       \n",
       "1                                                     0.0       \n",
       "2                                                     0.0       \n",
       "3                                                     0.0       \n",
       "4                                                     0.0       \n",
       "...                                                   ...       \n",
       "317352                                                0.0       \n",
       "317353                                                0.0       \n",
       "317354                                                0.0       \n",
       "317355                                                0.0       \n",
       "317356                                                0.0       \n",
       "\n",
       "        PRIM_CONTRIBUTORY_CAUSE_ROAD ENGINEERING/SURFACE/MARKING DEFECTS  \\\n",
       "0                                                     0.0                  \n",
       "1                                                     0.0                  \n",
       "2                                                     0.0                  \n",
       "3                                                     0.0                  \n",
       "4                                                     0.0                  \n",
       "...                                                   ...                  \n",
       "317352                                                0.0                  \n",
       "317353                                                0.0                  \n",
       "317354                                                0.0                  \n",
       "317355                                                0.0                  \n",
       "317356                                                0.0                  \n",
       "\n",
       "        PRIM_CONTRIBUTORY_CAUSE_TEXTING  \\\n",
       "0                                   0.0   \n",
       "1                                   0.0   \n",
       "2                                   0.0   \n",
       "3                                   0.0   \n",
       "4                                   0.0   \n",
       "...                                 ...   \n",
       "317352                              0.0   \n",
       "317353                              0.0   \n",
       "317354                              0.0   \n",
       "317355                              0.0   \n",
       "317356                              0.0   \n",
       "\n",
       "        PRIM_CONTRIBUTORY_CAUSE_TURNING RIGHT ON RED  \\\n",
       "0                                                0.0   \n",
       "1                                                0.0   \n",
       "2                                                0.0   \n",
       "3                                                0.0   \n",
       "4                                                0.0   \n",
       "...                                              ...   \n",
       "317352                                           0.0   \n",
       "317353                                           0.0   \n",
       "317354                                           0.0   \n",
       "317355                                           0.0   \n",
       "317356                                           0.0   \n",
       "\n",
       "        PRIM_CONTRIBUTORY_CAUSE_UNABLE TO DETERMINE  \\\n",
       "0                                               0.0   \n",
       "1                                               1.0   \n",
       "2                                               1.0   \n",
       "3                                               1.0   \n",
       "4                                               0.0   \n",
       "...                                             ...   \n",
       "317352                                          1.0   \n",
       "317353                                          1.0   \n",
       "317354                                          0.0   \n",
       "317355                                          0.0   \n",
       "317356                                          0.0   \n",
       "\n",
       "        PRIM_CONTRIBUTORY_CAUSE_UNDER THE INFLUENCE OF ALCOHOL/DRUGS (USE WHEN ARREST IS EFFECTED)  \\\n",
       "0                                                     0.0                                            \n",
       "1                                                     0.0                                            \n",
       "2                                                     0.0                                            \n",
       "3                                                     0.0                                            \n",
       "4                                                     0.0                                            \n",
       "...                                                   ...                                            \n",
       "317352                                                0.0                                            \n",
       "317353                                                0.0                                            \n",
       "317354                                                0.0                                            \n",
       "317355                                                0.0                                            \n",
       "317356                                                0.0                                            \n",
       "\n",
       "        PRIM_CONTRIBUTORY_CAUSE_VISION OBSCURED (SIGNS, TREE LIMBS, BUILDINGS, ETC.)  \\\n",
       "0                                                     0.0                              \n",
       "1                                                     0.0                              \n",
       "2                                                     0.0                              \n",
       "3                                                     0.0                              \n",
       "4                                                     0.0                              \n",
       "...                                                   ...                              \n",
       "317352                                                0.0                              \n",
       "317353                                                0.0                              \n",
       "317354                                                0.0                              \n",
       "317355                                                0.0                              \n",
       "317356                                                0.0                              \n",
       "\n",
       "        PRIM_CONTRIBUTORY_CAUSE_WEATHER  \n",
       "0                                   0.0  \n",
       "1                                   0.0  \n",
       "2                                   0.0  \n",
       "3                                   0.0  \n",
       "4                                   0.0  \n",
       "...                                 ...  \n",
       "317352                              0.0  \n",
       "317353                              0.0  \n",
       "317354                              0.0  \n",
       "317355                              0.0  \n",
       "317356                              0.0  \n",
       "\n",
       "[317357 rows x 61 columns]"
      ]
     },
     "execution_count": 19,
     "metadata": {},
     "output_type": "execute_result"
    }
   ],
   "source": [
    "# Creating dummy variables \n",
    "x_feats = ['LIGHTING_CONDITION', 'FIRST_CRASH_TYPE', 'PRIM_CONTRIBUTORY_CAUSE']\n",
    "tre = pd.get_dummies(df[x_feats], drop_first=True, dtype=float)\n",
    "tre"
   ]
  },
  {
   "cell_type": "code",
   "execution_count": 20,
   "metadata": {},
   "outputs": [],
   "source": [
    "X = tre\n",
    "y = df['DAMAGE']"
   ]
  },
  {
   "cell_type": "code",
   "execution_count": 21,
   "metadata": {},
   "outputs": [
    {
     "name": "stdout",
     "output_type": "stream",
     "text": [
      "203108 50777 203108 50777\n"
     ]
    }
   ],
   "source": [
    "# Split X data in train and test datasets\n",
    "X_train, X_test, y_train, y_test = train_test_split(X, y, test_size=0.2, random_state=42)\n",
    "\n",
    "# Split train data in train and validation datasets\n",
    "X_train_s, X_val, y_train_s, y_val = train_test_split(X_train, y_train, test_size=0.2, random_state=42)\n",
    "print(len(X_train_s), len(X_val), len(y_train_s), len(y_val))"
   ]
  },
  {
   "cell_type": "code",
   "execution_count": 22,
   "metadata": {},
   "outputs": [],
   "source": [
    "from sklearn.model_selection import StratifiedKFold\n",
    "skf = StratifiedKFold(n_splits=5, random_state=42)"
   ]
  },
  {
   "cell_type": "code",
   "execution_count": 25,
   "metadata": {},
   "outputs": [],
   "source": [
    "from sklearn.tree import DecisionTreeClassifier\n",
    "model = DecisionTreeClassifier(criterion='gini', max_depth=3,random_state=42)"
   ]
  },
  {
   "cell_type": "code",
   "execution_count": 26,
   "metadata": {},
   "outputs": [
    {
     "data": {
      "text/plain": [
       "DecisionTreeClassifier(class_weight=None, criterion='gini', max_depth=3,\n",
       "                       max_features=None, max_leaf_nodes=None,\n",
       "                       min_impurity_decrease=0.0, min_impurity_split=None,\n",
       "                       min_samples_leaf=1, min_samples_split=2,\n",
       "                       min_weight_fraction_leaf=0.0, presort=False,\n",
       "                       random_state=42, splitter='best')"
      ]
     },
     "execution_count": 26,
     "metadata": {},
     "output_type": "execute_result"
    }
   ],
   "source": [
    "model.fit(X_train,y_train)"
   ]
  },
  {
   "cell_type": "code",
   "execution_count": 29,
   "metadata": {},
   "outputs": [
    {
     "data": {
      "text/plain": [
       "array([0.        , 0.        , 0.07017331, 0.        , 0.        ,\n",
       "       0.        , 0.        , 0.        , 0.        , 0.        ,\n",
       "       0.        , 0.        , 0.        , 0.54685414, 0.        ,\n",
       "       0.        , 0.        , 0.        , 0.        , 0.        ,\n",
       "       0.        , 0.        , 0.        , 0.        , 0.        ,\n",
       "       0.        , 0.        , 0.        , 0.        , 0.        ,\n",
       "       0.        , 0.        , 0.        , 0.        , 0.        ,\n",
       "       0.        , 0.        , 0.        , 0.        , 0.        ,\n",
       "       0.        , 0.        , 0.13603208, 0.        , 0.        ,\n",
       "       0.        , 0.        , 0.        , 0.        , 0.0020919 ,\n",
       "       0.        , 0.        , 0.        , 0.        , 0.        ,\n",
       "       0.        , 0.        , 0.24341938, 0.0014292 , 0.        ,\n",
       "       0.        ])"
      ]
     },
     "execution_count": 29,
     "metadata": {},
     "output_type": "execute_result"
    }
   ],
   "source": [
    "model.feature_importances_"
   ]
  },
  {
   "cell_type": "code",
   "execution_count": null,
   "metadata": {},
   "outputs": [],
   "source": [
    "pred = model.predict(X_train)\n",
    "\n"
   ]
  },
  {
   "cell_type": "code",
   "execution_count": null,
   "metadata": {},
   "outputs": [],
   "source": [
    "print(\"Accuracy of the DT Classifier: \")"
   ]
  },
  {
   "cell_type": "code",
   "execution_count": null,
   "metadata": {},
   "outputs": [],
   "source": []
  },
  {
   "cell_type": "code",
   "execution_count": null,
   "metadata": {},
   "outputs": [],
   "source": []
  },
  {
   "cell_type": "markdown",
   "metadata": {},
   "source": [
    "## Train a logistic regression model with NO regularisation¶\n"
   ]
  },
  {
   "cell_type": "code",
   "execution_count": null,
   "metadata": {},
   "outputs": [],
   "source": [
    "logreg = LogisticRegression(penalty='l1',  solver='saga')\n",
    "model_log = logreg.fit(X_train_scaled, y_train_s)"
   ]
  },
  {
   "cell_type": "code",
   "execution_count": null,
   "metadata": {},
   "outputs": [],
   "source": [
    "# row_ind = np.array([0, 1, 2])\n",
    "# col_ind = np.array([1, 2, 1])\n",
    "# y_sparse = sparse.csr_matrix((np.ones(3), (row_ind, col_ind)))\n",
    "# print(y_sparse)\n",
    " "
   ]
  },
  {
   "cell_type": "markdown",
   "metadata": {},
   "source": [
    "#########. finish #####################"
   ]
  },
  {
   "cell_type": "markdown",
   "metadata": {},
   "source": [
    "### Predicting hour"
   ]
  },
  {
   "cell_type": "code",
   "execution_count": null,
   "metadata": {},
   "outputs": [],
   "source": []
  },
  {
   "cell_type": "code",
   "execution_count": null,
   "metadata": {},
   "outputs": [],
   "source": [
    "st = [142538, 129690, 98975, 27485]\n",
    "d = ['W', 'S', 'N', 'E']\n",
    "plt.plot(d,st)\n",
    "plt.show()"
   ]
  },
  {
   "cell_type": "code",
   "execution_count": null,
   "metadata": {},
   "outputs": [],
   "source": [
    "plt.pie(st, labels=d, colors=['orange','green','blue','skyblue', 'darkred', 'purple'])\n",
    "p=plt.gcf()\n",
    "p.gca().add_artist(my_circle)\n",
    "plt.show()\n",
    " \n",
    "# # Custom colors --> colors will cycle\n",
    "# plt.pie(size, labels=names, colors=['red','green'])\n",
    "# p=plt.gcf()\n",
    "# p.gca().add_artist(my_circle)\n",
    "# plt.show()\n",
    " \n",
    "# from palettable.colorbrewer.qualitative import Pastel1_7\n",
    "# plt.pie(size, labels=names, colors=Pastel1_7.hex_colors)\n",
    "# p=plt.gcf()\n",
    "# p.gca().add_artist(my_circle)\n",
    "# plt.show()"
   ]
  },
  {
   "cell_type": "code",
   "execution_count": null,
   "metadata": {},
   "outputs": [],
   "source": [
    "crashes.WEATHER_CONDITION.value_counts()"
   ]
  },
  {
   "cell_type": "code",
   "execution_count": null,
   "metadata": {},
   "outputs": [],
   "source": [
    "\n",
    "names='clear', 'rain', 'unknown', 'snow', 'cloudy', 'other',\n",
    "size=[313788, 36502, 17161,15556, 12428,  1312]# 12,11,3,30]\n",
    " \n",
    "# Create a circle for the center of the plot\n",
    "my_circle=plt.Circle( (0,0), 0.7, color='white')\n",
    "plt.show()"
   ]
  },
  {
   "cell_type": "code",
   "execution_count": null,
   "metadata": {},
   "outputs": [],
   "source": [
    "plt.pie(size, labels=names, colors=['orange','green','blue','skyblue', 'darkred', 'purple'])\n",
    "p=plt.gcf()\n",
    "p.gca().add_artist(my_circle)\n",
    "plt.show()\n",
    " \n",
    "# Custom colors --> colors will cycle\n",
    "plt.pie(size, labels=names, colors=['red','green'])\n",
    "p=plt.gcf()\n",
    "p.gca().add_artist(my_circle)\n",
    "plt.show()\n",
    " \n",
    "from palettable.colorbrewer.qualitative import Pastel1_7\n",
    "plt.pie(size, labels=names, colors=Pastel1_7.hex_colors)\n",
    "p=plt.gcf()\n",
    "p.gca().add_artist(my_circle)\n",
    "plt.show()\n"
   ]
  },
  {
   "cell_type": "code",
   "execution_count": null,
   "metadata": {},
   "outputs": [],
   "source": [
    "vehicles"
   ]
  }
 ],
 "metadata": {
  "kernelspec": {
   "display_name": "Python 3",
   "language": "python",
   "name": "python3"
  },
  "language_info": {
   "codemirror_mode": {
    "name": "ipython",
    "version": 3
   },
   "file_extension": ".py",
   "mimetype": "text/x-python",
   "name": "python",
   "nbconvert_exporter": "python",
   "pygments_lexer": "ipython3",
   "version": "3.7.4"
  }
 },
 "nbformat": 4,
 "nbformat_minor": 2
}
